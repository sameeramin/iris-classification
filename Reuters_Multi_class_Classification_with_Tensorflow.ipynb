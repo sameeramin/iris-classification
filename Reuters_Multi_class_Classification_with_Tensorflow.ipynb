{
  "nbformat": 4,
  "nbformat_minor": 0,
  "metadata": {
    "colab": {
      "name": "Reuters Multi-class Classification with Tensorflow.ipynb",
      "provenance": [],
      "collapsed_sections": [],
      "authorship_tag": "ABX9TyMKE6JSK0Lgm7PpLdG5vh43"
    },
    "kernelspec": {
      "name": "python3",
      "display_name": "Python 3"
    },
    "language_info": {
      "name": "python"
    }
  },
  "cells": [
    {
      "cell_type": "markdown",
      "metadata": {
        "id": "7_eYBiHoKZzz"
      },
      "source": [
        "\n",
        "# Reuters Multi-class Classification with Tensorflow"
      ]
    },
    {
      "cell_type": "code",
      "metadata": {
        "colab": {
          "base_uri": "https://localhost:8080/",
          "height": 35
        },
        "id": "wXZY0imA2oRa",
        "outputId": "58211167-7d1a-4bc0-fe59-98ca69b42761"
      },
      "source": [
        "import tensorflow as tf\n",
        "tf.__version__"
      ],
      "execution_count": null,
      "outputs": [
        {
          "output_type": "execute_result",
          "data": {
            "application/vnd.google.colaboratory.intrinsic+json": {
              "type": "string"
            },
            "text/plain": [
              "'2.7.0'"
            ]
          },
          "metadata": {},
          "execution_count": 1
        }
      ]
    },
    {
      "cell_type": "markdown",
      "metadata": {
        "id": "dRJvUGIqKmgf"
      },
      "source": [
        "## Loading libraries and datasets"
      ]
    },
    {
      "cell_type": "code",
      "metadata": {
        "id": "fDgIE9PW57CO"
      },
      "source": [
        "from tensorflow.keras.datasets import reuters\n",
        "from tensorflow.keras import models, layers, optimizers, utils\n",
        "import numpy as np\n",
        "import matplotlib.pyplot as plt"
      ],
      "execution_count": null,
      "outputs": []
    },
    {
      "cell_type": "code",
      "metadata": {
        "id": "EH85LH1m62tP",
        "colab": {
          "base_uri": "https://localhost:8080/"
        },
        "outputId": "f57c8680-40f6-4ed1-fd41-685df79737c6"
      },
      "source": [
        "(train_data, train_labels), (test_data, test_labels) = reuters.load_data(num_words=10000)"
      ],
      "execution_count": null,
      "outputs": [
        {
          "output_type": "stream",
          "name": "stdout",
          "text": [
            "Downloading data from https://storage.googleapis.com/tensorflow/tf-keras-datasets/reuters.npz\n",
            "2113536/2110848 [==============================] - 0s 0us/step\n",
            "2121728/2110848 [==============================] - 0s 0us/step\n"
          ]
        }
      ]
    },
    {
      "cell_type": "markdown",
      "metadata": {
        "id": "y9_qzETeKSw6"
      },
      "source": [
        "## A Look at Data we got"
      ]
    },
    {
      "cell_type": "code",
      "metadata": {
        "colab": {
          "base_uri": "https://localhost:8080/"
        },
        "id": "k_yYR7VgKKlm",
        "outputId": "763bdbd4-b06e-4375-e8d6-ece1a3a49dd0"
      },
      "source": [
        "print(\"Words: \", train_data[2])\n",
        "print(\"Labels: \", train_labels[2])"
      ],
      "execution_count": null,
      "outputs": [
        {
          "output_type": "stream",
          "name": "stdout",
          "text": [
            "Words:  [1, 53, 12, 284, 15, 14, 272, 26, 53, 959, 32, 818, 15, 14, 272, 26, 39, 684, 70, 11, 14, 12, 3886, 18, 180, 183, 187, 70, 11, 14, 102, 32, 11, 29, 53, 44, 704, 15, 14, 19, 758, 15, 53, 959, 47, 1013, 15, 14, 19, 132, 15, 39, 965, 32, 11, 14, 147, 72, 11, 180, 183, 187, 44, 11, 14, 102, 19, 11, 123, 186, 90, 67, 960, 4, 78, 13, 68, 467, 511, 110, 59, 89, 90, 67, 1390, 55, 2678, 92, 617, 80, 1274, 46, 905, 220, 13, 4, 346, 48, 235, 629, 5, 211, 5, 1118, 7, 2, 81, 5, 187, 11, 15, 9, 1709, 201, 5, 47, 3615, 18, 478, 4514, 5, 1118, 7, 232, 2, 71, 5, 160, 63, 11, 9, 2, 81, 5, 102, 59, 11, 17, 12]\n",
            "Labels:  3\n"
          ]
        }
      ]
    },
    {
      "cell_type": "code",
      "metadata": {
        "colab": {
          "base_uri": "https://localhost:8080/",
          "height": 157
        },
        "id": "lxGqvxzmLI51",
        "outputId": "0700a904-07d4-4ceb-d7c3-763d9197ded4"
      },
      "source": [
        "# We can access words followed by the above indexes by calling get_word_index\n",
        "# which returns a dictionary of words and their indexes\n",
        "word_index = reuters.get_word_index()\n",
        "reversed_word_index = dict([(value, key) for (key, value) in word_index.items()])\n",
        "\" \".join([ reversed_word_index.get(i-3, \"?\") for i in train_data[2]])"
      ],
      "execution_count": null,
      "outputs": [
        {
          "output_type": "stream",
          "name": "stdout",
          "text": [
            "Downloading data from https://storage.googleapis.com/tensorflow/tf-keras-datasets/reuters_word_index.json\n",
            "557056/550378 [==============================] - 0s 0us/step\n",
            "565248/550378 [==============================] - 0s 0us/step\n"
          ]
        },
        {
          "output_type": "execute_result",
          "data": {
            "application/vnd.google.colaboratory.intrinsic+json": {
              "type": "string"
            },
            "text/plain": [
              "'? shr 3 28 dlrs vs 22 cts shr diluted 2 99 dlrs vs 22 cts net 46 0 mln vs 3 328 000 avg shrs 14 0 mln vs 15 2 mln year shr 5 41 dlrs vs 1 56 dlrs shr diluted 4 94 dlrs vs 1 50 dlrs net 78 2 mln vs 25 9 mln avg shrs 14 5 mln vs 15 1 mln note earnings per share reflect the two for one split effective january 6 1987 per share amounts are calculated after preferred stock dividends loss continuing operations for the qtr 1986 includes gains of sale of investments in ? corp of 14 mln dlrs and associated companies of 4 189 000 less writedowns of investments in national ? inc of 11 8 mln and ? corp of 15 6 mln reuter 3'"
            ]
          },
          "metadata": {},
          "execution_count": 6
        }
      ]
    },
    {
      "cell_type": "markdown",
      "metadata": {
        "id": "zOOajGVd3zEz"
      },
      "source": [
        "## Preparing Dataset"
      ]
    },
    {
      "cell_type": "code",
      "metadata": {
        "id": "0HlMCQq63x_B"
      },
      "source": [
        "def vectorize_sequences(sequences, dimension=10000):\n",
        "  results = np.zeros((len(sequences), dimension))\n",
        "  for i, sequence in enumerate(sequences):\n",
        "    results[i, sequence] = 1\n",
        "  return results"
      ],
      "execution_count": null,
      "outputs": []
    },
    {
      "cell_type": "code",
      "metadata": {
        "colab": {
          "base_uri": "https://localhost:8080/"
        },
        "id": "iFDEIRqT40Yl",
        "outputId": "1d12348e-61ff-44b4-c086-7933c1df8ba9"
      },
      "source": [
        "x_train = vectorize_sequences(train_data)\n",
        "x_test = vectorize_sequences(test_data)\n",
        "\n",
        "x_train.shape"
      ],
      "execution_count": null,
      "outputs": [
        {
          "output_type": "execute_result",
          "data": {
            "text/plain": [
              "(8982, 10000)"
            ]
          },
          "metadata": {},
          "execution_count": 8
        }
      ]
    },
    {
      "cell_type": "code",
      "metadata": {
        "colab": {
          "base_uri": "https://localhost:8080/"
        },
        "id": "VlhfhCT95gsi",
        "outputId": "84f884b1-ca3f-4adb-ee9c-8eda3666269b"
      },
      "source": [
        "y_train = utils.to_categorical(train_labels) # One hot train labels\n",
        "y_test = utils.to_categorical(test_labels) # One hot test labels\n",
        "\n",
        "y_train.shape"
      ],
      "execution_count": null,
      "outputs": [
        {
          "output_type": "execute_result",
          "data": {
            "text/plain": [
              "(8982, 46)"
            ]
          },
          "metadata": {},
          "execution_count": 9
        }
      ]
    },
    {
      "cell_type": "markdown",
      "metadata": {
        "id": "m9JICLcR6WAP"
      },
      "source": [
        "## Building Model"
      ]
    },
    {
      "cell_type": "code",
      "metadata": {
        "id": "qrOEwOxZ6VVY"
      },
      "source": [
        "model = models.Sequential()\n",
        "model.add(layers.Dense(64, activation='relu', input_shape=(10000, )))\n",
        "model.add(layers.Dense(64, activation='relu'))\n",
        "model.add(layers.Dense(46, activation='softmax'))"
      ],
      "execution_count": null,
      "outputs": []
    },
    {
      "cell_type": "code",
      "metadata": {
        "colab": {
          "base_uri": "https://localhost:8080/"
        },
        "id": "hZTPgd9C81bh",
        "outputId": "f4f37cfe-4d9d-4030-e8cf-7db650bb9a5f"
      },
      "source": [
        "# Spliting data further for validation\n",
        "x_val = x_train[:1000]\n",
        "partial_x_train = x_train[1000:]\n",
        "y_val = y_train[:1000]\n",
        "partial_y_train = y_train[1000:]\n",
        "\n",
        "x_val.shape"
      ],
      "execution_count": null,
      "outputs": [
        {
          "output_type": "execute_result",
          "data": {
            "text/plain": [
              "(1000, 10000)"
            ]
          },
          "metadata": {},
          "execution_count": 11
        }
      ]
    },
    {
      "cell_type": "code",
      "metadata": {
        "colab": {
          "base_uri": "https://localhost:8080/"
        },
        "id": "S33s5nFU6RdW",
        "outputId": "d1c52194-e641-4997-e47e-ededaa70abf1"
      },
      "source": [
        "model.compile(optimizer='rmsprop', loss=tf.keras.losses.categorical_crossentropy, metrics=['acc'])\n",
        "history = model.fit(partial_x_train, partial_y_train, epochs=20, batch_size=512, validation_data=(x_val, y_val))"
      ],
      "execution_count": null,
      "outputs": [
        {
          "output_type": "stream",
          "name": "stdout",
          "text": [
            "Epoch 1/20\n",
            "16/16 [==============================] - 2s 73ms/step - loss: 2.6668 - acc: 0.5299 - val_loss: 1.7621 - val_acc: 0.6330\n",
            "Epoch 2/20\n",
            "16/16 [==============================] - 1s 55ms/step - loss: 1.4427 - acc: 0.6927 - val_loss: 1.3297 - val_acc: 0.6970\n",
            "Epoch 3/20\n",
            "16/16 [==============================] - 1s 48ms/step - loss: 1.0659 - acc: 0.7711 - val_loss: 1.1508 - val_acc: 0.7510\n",
            "Epoch 4/20\n",
            "16/16 [==============================] - 1s 45ms/step - loss: 0.8385 - acc: 0.8168 - val_loss: 1.0487 - val_acc: 0.7690\n",
            "Epoch 5/20\n",
            "16/16 [==============================] - 1s 44ms/step - loss: 0.6666 - acc: 0.8558 - val_loss: 0.9652 - val_acc: 0.7900\n",
            "Epoch 6/20\n",
            "16/16 [==============================] - 1s 56ms/step - loss: 0.5349 - acc: 0.8887 - val_loss: 0.9525 - val_acc: 0.8030\n",
            "Epoch 7/20\n",
            "16/16 [==============================] - 1s 45ms/step - loss: 0.4264 - acc: 0.9113 - val_loss: 0.9201 - val_acc: 0.8030\n",
            "Epoch 8/20\n",
            "16/16 [==============================] - 1s 43ms/step - loss: 0.3498 - acc: 0.9251 - val_loss: 0.9144 - val_acc: 0.8200\n",
            "Epoch 9/20\n",
            "16/16 [==============================] - 1s 43ms/step - loss: 0.2935 - acc: 0.9346 - val_loss: 0.8889 - val_acc: 0.8250\n",
            "Epoch 10/20\n",
            "16/16 [==============================] - 1s 56ms/step - loss: 0.2451 - acc: 0.9421 - val_loss: 0.9076 - val_acc: 0.8150\n",
            "Epoch 11/20\n",
            "16/16 [==============================] - 1s 56ms/step - loss: 0.2085 - acc: 0.9479 - val_loss: 0.9646 - val_acc: 0.8060\n",
            "Epoch 12/20\n",
            "16/16 [==============================] - 1s 56ms/step - loss: 0.1871 - acc: 0.9500 - val_loss: 1.0414 - val_acc: 0.7910\n",
            "Epoch 13/20\n",
            "16/16 [==============================] - 1s 56ms/step - loss: 0.1708 - acc: 0.9506 - val_loss: 0.9583 - val_acc: 0.8080\n",
            "Epoch 14/20\n",
            "16/16 [==============================] - 1s 57ms/step - loss: 0.1540 - acc: 0.9525 - val_loss: 0.9942 - val_acc: 0.8040\n",
            "Epoch 15/20\n",
            "16/16 [==============================] - 1s 56ms/step - loss: 0.1378 - acc: 0.9570 - val_loss: 0.9882 - val_acc: 0.8090\n",
            "Epoch 16/20\n",
            "16/16 [==============================] - 1s 55ms/step - loss: 0.1342 - acc: 0.9563 - val_loss: 1.0118 - val_acc: 0.8100\n",
            "Epoch 17/20\n",
            "16/16 [==============================] - 1s 59ms/step - loss: 0.1237 - acc: 0.9562 - val_loss: 1.0279 - val_acc: 0.8090\n",
            "Epoch 18/20\n",
            "16/16 [==============================] - 1s 45ms/step - loss: 0.1238 - acc: 0.9572 - val_loss: 1.0747 - val_acc: 0.7980\n",
            "Epoch 19/20\n",
            "16/16 [==============================] - 1s 43ms/step - loss: 0.1151 - acc: 0.9587 - val_loss: 1.1038 - val_acc: 0.8000\n",
            "Epoch 20/20\n",
            "16/16 [==============================] - 1s 43ms/step - loss: 0.1171 - acc: 0.9570 - val_loss: 1.0733 - val_acc: 0.8060\n"
          ]
        }
      ]
    },
    {
      "cell_type": "code",
      "metadata": {
        "colab": {
          "base_uri": "https://localhost:8080/"
        },
        "id": "z1w1I0Kf-2E2",
        "outputId": "cd1a4e1a-5a1b-48de-e424-4a12744e1462"
      },
      "source": [
        "print(model.summary)"
      ],
      "execution_count": null,
      "outputs": [
        {
          "output_type": "stream",
          "name": "stdout",
          "text": [
            "<bound method Model.summary of <keras.engine.sequential.Sequential object at 0x7f2a6fa5bb90>>\n"
          ]
        }
      ]
    },
    {
      "cell_type": "code",
      "metadata": {
        "colab": {
          "base_uri": "https://localhost:8080/",
          "height": 590
        },
        "id": "qiMqEOMj_JEC",
        "outputId": "b2bbd3e9-cf55-40be-fd98-6a530a92a0bb"
      },
      "source": [
        "history_dict = history.history\n",
        "loss_values = history_dict['loss']\n",
        "val_loss_values = history_dict['val_loss']\n",
        "epochs = range(1, len(loss_values) + 1)\n",
        "\n",
        "plt.plot(epochs, loss_values, 'bo', label='Training Loss')\n",
        "plt.plot(epochs, val_loss_values, 'b', label='Validation Loss')\n",
        "plt.title(\"Training and validation loss\")\n",
        "plt.xlabel(\"Epochs\")\n",
        "plt.ylabel(\"Loss\")\n",
        "plt.legend()\n",
        "plt.show()\n",
        "\n",
        "plt.clf()\n",
        "\n",
        "acc_values = history_dict['acc']\n",
        "val_acc_values = history_dict['val_acc']\n",
        "\n",
        "plt.plot(epochs, acc_values, 'bo', label='Trainig Accuracy')\n",
        "plt.plot(epochs, val_acc_values, 'b', label='Validation acc')\n",
        "plt.title('Training and validation accuracy')\n",
        "plt.xlabel(\"Epochs\")\n",
        "plt.ylabel(\"Loss\")\n",
        "plt.legend()\n",
        "plt.show"
      ],
      "execution_count": null,
      "outputs": [
        {
          "output_type": "display_data",
          "data": {
            "image/png": "[encoded data removed]",
            "text/plain": [
              "<Figure size 432x288 with 1 Axes>"
            ]
          },
          "metadata": {
            "needs_background": "light"
          }
        },
        {
          "output_type": "execute_result",
          "data": {
            "text/plain": [
              "<function matplotlib.pyplot.show>"
            ]
          },
          "metadata": {},
          "execution_count": 14
        },
        {
          "output_type": "display_data",
          "data": {
            "image/png": "[encoded data removed]",
            "text/plain": [
              "<Figure size 432x288 with 1 Axes>"
            ]
          },
          "metadata": {
            "needs_background": "light"
          }
        }
      ]
    },
    {
      "cell_type": "markdown",
      "metadata": {
        "id": "6dyQqa0XFKmR"
      },
      "source": [
        "## Model Evaluation"
      ]
    },
    {
      "cell_type": "code",
      "metadata": {
        "colab": {
          "base_uri": "https://localhost:8080/"
        },
        "id": "sUSLFthYFJ75",
        "outputId": "14fa72a1-0eb3-4fed-bb64-dd6dbc7464e7"
      },
      "source": [
        "model.evaluate(x_test, y_test)"
      ],
      "execution_count": null,
      "outputs": [
        {
          "output_type": "stream",
          "name": "stdout",
          "text": [
            "71/71 [==============================] - 0s 3ms/step - loss: 1.2099 - acc: 0.7827\n"
          ]
        },
        {
          "output_type": "execute_result",
          "data": {
            "text/plain": [
              "[1.2099274396896362, 0.7827248573303223]"
            ]
          },
          "metadata": {},
          "execution_count": 15
        }
      ]
    }
  ]
}